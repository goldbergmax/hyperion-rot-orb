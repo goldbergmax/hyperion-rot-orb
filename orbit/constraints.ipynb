{
 "cells": [
  {
   "cell_type": "code",
   "execution_count": 1,
   "metadata": {},
   "outputs": [],
   "source": [
    "import numpy as np\n",
    "import matplotlib.pyplot as plt\n",
    "import rebound\n",
    "from saturn_system import m_sat, a_sat, R_eq_saturn"
   ]
  },
  {
   "cell_type": "code",
   "execution_count": 2,
   "metadata": {},
   "outputs": [
    {
     "data": {
      "text/plain": [
       "Text(0, 0.5, '$Q$')"
      ]
     },
     "execution_count": 2,
     "metadata": {},
     "output_type": "execute_result"
    },
    {
     "data": {
      "image/png": "[encoded data removed]",
      "text/plain": [
       "<Figure size 640x480 with 1 Axes>"
      ]
     },
     "metadata": {},
     "output_type": "display_data"
    }
   ],
   "source": [
    "sim = rebound.Simulation()\n",
    "sim.units = ('msaturn', 'km', 'yr')\n",
    "beta0 = np.linspace(1.34, 2.0, 100)\n",
    "age = 4.5e9\n",
    "a1 = (3/4)**(2/3)*a_sat['hyperion']\n",
    "a10 = beta0**(-2/3)*a_sat['hyperion']\n",
    "k2_over_Q_touch = 2/39*m_sat['titan']**-1*(sim.G)**-0.5*R_eq_saturn**-5*age**-1*(a1**(13/2) - a10**(13/2))\n",
    "plt.plot(beta0, 0.34/k2_over_Q_touch)\n",
    "plt.yscale('log')\n",
    "plt.xlabel(r'Initial period ratio')\n",
    "plt.ylabel(r'$Q$')"
   ]
  },
  {
   "cell_type": "code",
   "execution_count": 3,
   "metadata": {},
   "outputs": [],
   "source": [
    "def init_a_rat(init_per_rat):\n",
    "    return (4/(3*init_per_rat))**(2/3)*np.exp(-4*0.1**2)\n",
    "\n",
    "def Q_over_k2(init_per_rat):\n",
    "    return 39*np.pi/(1 - (4/3/(init_per_rat))**(26/3)*np.exp(-26*0.1**2))*m_sat['titan']*(R_eq_saturn/a_sat['titan'])**5*(4.5e9)/(15.95/365.25)"
   ]
  },
  {
   "cell_type": "code",
   "execution_count": 4,
   "metadata": {},
   "outputs": [
    {
     "data": {
      "text/plain": [
       "461.6020656991018"
      ]
     },
     "execution_count": 4,
     "metadata": {},
     "output_type": "execute_result"
    }
   ],
   "source": [
    "k2 = 0.382\n",
    "Q_over_k2(3/2)*k2"
   ]
  },
  {
   "cell_type": "code",
   "execution_count": 5,
   "metadata": {},
   "outputs": [],
   "source": [
    "def t_lock(init_per_rat):\n",
    "    return 4.5*(init_a_rat(init_per_rat))**3"
   ]
  },
  {
   "cell_type": "code",
   "execution_count": 6,
   "metadata": {},
   "outputs": [
    {
     "name": "stdout",
     "output_type": "stream",
     "text": [
      "3.9911419652272087\n",
      "3.153494886105448\n"
     ]
    }
   ],
   "source": [
    "print(t_lock(4/3))\n",
    "print(t_lock(3/2))"
   ]
  },
  {
   "cell_type": "code",
   "execution_count": 7,
   "metadata": {},
   "outputs": [
    {
     "data": {
      "text/plain": [
       "0.9607894391523232"
      ]
     },
     "execution_count": 7,
     "metadata": {},
     "output_type": "execute_result"
    }
   ],
   "source": [
    "init_a_rat(4/3)"
   ]
  },
  {
   "cell_type": "code",
   "execution_count": 8,
   "metadata": {},
   "outputs": [
    {
     "data": {
      "text/plain": [
       "array([12.28006647, 15.47191424, 17.7109206 ])"
      ]
     },
     "execution_count": 8,
     "metadata": {},
     "output_type": "execute_result"
    }
   ],
   "source": [
    "(np.array([1,2,3])/4.5)**(1/3) * a_sat['titan']/R_eq_saturn"
   ]
  },
  {
   "cell_type": "code",
   "execution_count": null,
   "metadata": {},
   "outputs": [],
   "source": []
  }
 ],
 "metadata": {
  "kernelspec": {
   "display_name": "nbody",
   "language": "python",
   "name": "python3"
  },
  "language_info": {
   "codemirror_mode": {
    "name": "ipython",
    "version": 3
   },
   "file_extension": ".py",
   "mimetype": "text/x-python",
   "name": "python",
   "nbconvert_exporter": "python",
   "pygments_lexer": "ipython3",
   "version": "3.9.18"
  },
  "orig_nbformat": 4
 },
 "nbformat": 4,
 "nbformat_minor": 2
}
